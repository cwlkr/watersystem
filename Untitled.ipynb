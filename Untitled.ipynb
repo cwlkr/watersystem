{
 "cells": [
  {
   "cell_type": "code",
   "execution_count": 420,
   "id": "ff665af5-fb8f-40fb-8eb7-3d67cd413b6e",
   "metadata": {},
   "outputs": [],
   "source": [
    "from threading import Thread\n",
    "import threading\n",
    "import time\n",
    "from flask_socketio import emit\n",
    "import warnings\n",
    "try:\n",
    "    import RPi.GPIO as GPIO\n",
    "except RuntimeError:\n",
    "    pass\n",
    "\n",
    "class WaterLevelSensor():\n",
    "    def __init__(self, IN_GPIO_W, OUT_GPIO_W, debug_value=0, debug=False):\n",
    "        self.IN_GPIO_W = IN_GPIO_W\n",
    "        self.OUT_GPIO_W = OUT_GPIO_W\n",
    "        self.debug = debug\n",
    "        if not self.debug:\n",
    "            self.set_up_gpio()\n",
    "        self.debug_value = debug_value\n",
    "\n",
    "    def set_up_gpio(self):\n",
    "        GPIO.setup(self.IN_GPIO_W, GPIO.IN)\n",
    "        GPIO.setup(self.OUT_GPIO_W, GPIO.OUT)\n",
    "\n",
    "    def check_water_level(self):\n",
    "        if self.debug:\n",
    "            return self.debug_value\n",
    "        else:\n",
    "            GPIO.output(self.OUT_GPIO_W, GPIO.HIGH)\n",
    "            #print('out_channel: ', self.OUT_GPIO_W)\n",
    "            #print('in_channel: ', self.IN_GPIO_W)\n",
    "            time.sleep(0.001)\n",
    "\n",
    "            #print('should be 1: ', GPIO.input(self.OUT_GPIO_W))\n",
    "            res = GPIO.input(self.IN_GPIO_W)\n",
    "            #print('should be 0: ', GPIO.input(self.IN_GPIO_W))\n",
    "            time.sleep(0.001)\n",
    "            GPIO.output(self.OUT_GPIO_W, GPIO.LOW)\n",
    "            return bool(res)\n",
    "\n",
    "    def check_water_with_delay(self):\n",
    "        if self.check_water_level():\n",
    "            return True\n",
    "        else:\n",
    "            time.sleep(1)\n",
    "            return self.check_water_level()"
   ]
  },
  {
   "cell_type": "code",
   "execution_count": 421,
   "id": "0807eb13-a15e-487a-954e-2407dbd9f9e4",
   "metadata": {
    "scrolled": true
   },
   "outputs": [],
   "source": [
    "W = WaterLevelSensor(16, 26)"
   ]
  },
  {
   "cell_type": "code",
   "execution_count": 428,
   "id": "ee749236-b855-479c-9200-fe213c5b90c9",
   "metadata": {},
   "outputs": [
    {
     "data": {
      "text/plain": [
       "False"
      ]
     },
     "execution_count": 428,
     "metadata": {},
     "output_type": "execute_result"
    }
   ],
   "source": [
    "W.check_water_level()"
   ]
  },
  {
   "cell_type": "code",
   "execution_count": 423,
   "id": "f4f1d165-712d-4200-9aba-9b7cf5fa0143",
   "metadata": {},
   "outputs": [],
   "source": [
    "GPIO.output(W.OUT_GPIO_W, GPIO.HIGH)\n"
   ]
  },
  {
   "cell_type": "code",
   "execution_count": 424,
   "id": "9fc59b7b-42f5-499d-bee3-968f89d533b2",
   "metadata": {},
   "outputs": [
    {
     "data": {
      "text/plain": [
       "0"
      ]
     },
     "execution_count": 424,
     "metadata": {},
     "output_type": "execute_result"
    }
   ],
   "source": [
    "GPIO.input(W.IN_GPIO_W)"
   ]
  },
  {
   "cell_type": "code",
   "execution_count": 425,
   "id": "8003a02d-f248-4cb5-8206-29c98c6f5ebb",
   "metadata": {},
   "outputs": [
    {
     "data": {
      "text/plain": [
       "1"
      ]
     },
     "execution_count": 425,
     "metadata": {},
     "output_type": "execute_result"
    }
   ],
   "source": [
    "GPIO.input(W.OUT_GPIO_W)"
   ]
  },
  {
   "cell_type": "code",
   "execution_count": 426,
   "id": "08fa50e0-81f6-4361-b67b-ce5a344660a1",
   "metadata": {},
   "outputs": [],
   "source": [
    "GPIO.output(W.OUT_GPIO_W, GPIO.LOW)\n"
   ]
  },
  {
   "cell_type": "code",
   "execution_count": 436,
   "id": "bc4d21c5-a0bd-42c0-95d1-f8717ca45ed4",
   "metadata": {},
   "outputs": [
    {
     "name": "stdout",
     "output_type": "stream",
     "text": [
      "1\n"
     ]
    }
   ],
   "source": [
    "GPIO.output(W.OUT_GPIO_W, GPIO.HIGH)\n",
    "res = GPIO.input(W.IN_GPIO_W)\n",
    "GPIO.output(W.OUT_GPIO_W, GPIO.LOW)\n",
    "print(res)"
   ]
  },
  {
   "cell_type": "code",
   "execution_count": 44,
   "id": "06a2e94d-f35d-4bf5-b9cc-9b977995ecfe",
   "metadata": {},
   "outputs": [
    {
     "data": {
      "text/plain": [
       "26"
      ]
     },
     "execution_count": 44,
     "metadata": {},
     "output_type": "execute_result"
    }
   ],
   "source": [
    "W.OUT_GPIO_W"
   ]
  },
  {
   "cell_type": "code",
   "execution_count": 51,
   "id": "e7ecd7f0-8d5e-45c3-9c23-aafcd2c47431",
   "metadata": {},
   "outputs": [
    {
     "data": {
      "text/plain": [
       "16"
      ]
     },
     "execution_count": 51,
     "metadata": {},
     "output_type": "execute_result"
    }
   ],
   "source": [
    "W.IN_GPIO_W"
   ]
  },
  {
   "cell_type": "code",
   "execution_count": 61,
   "id": "d20b645b-6425-4fae-a660-d132fe46a103",
   "metadata": {},
   "outputs": [
    {
     "data": {
      "text/plain": [
       "0"
      ]
     },
     "execution_count": 61,
     "metadata": {},
     "output_type": "execute_result"
    }
   ],
   "source": [
    "W.debug_value"
   ]
  },
  {
   "cell_type": "code",
   "execution_count": null,
   "id": "550f7d47-d730-4144-bd5f-3d16c1c0b0eb",
   "metadata": {},
   "outputs": [],
   "source": []
  }
 ],
 "metadata": {
  "kernelspec": {
   "display_name": "Python 3 (ipykernel)",
   "language": "python",
   "name": "python3"
  },
  "language_info": {
   "codemirror_mode": {
    "name": "ipython",
    "version": 3
   },
   "file_extension": ".py",
   "mimetype": "text/x-python",
   "name": "python",
   "nbconvert_exporter": "python",
   "pygments_lexer": "ipython3",
   "version": "3.11.2"
  }
 },
 "nbformat": 4,
 "nbformat_minor": 5
}
